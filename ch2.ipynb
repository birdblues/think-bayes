{
 "cells": [
  {
   "cell_type": "markdown",
   "metadata": {},
   "source": [
    "# Bayers's Theorem"
   ]
  },
  {
   "cell_type": "markdown",
   "metadata": {},
   "source": [
    "$$ P(A|B) = \\frac{P(A)P(B|A)}{P(B)} $$"
   ]
  },
  {
   "cell_type": "markdown",
   "metadata": {},
   "source": [
    "## 쿠키 문제\n",
    "다음은 요청하신 내용을 번역한 것입니다:\n",
    "\n",
    "우리는 [항아리 문제](https://en.wikipedia.org/wiki/Urn_problem)의 변형된 버전으로 시작하겠습니다:\n",
    "\n",
    "> 두 개의 쿠키 그릇이 있다고 가정해봅시다.\n",
    ">\n",
    "> * 1번 그릇에는 바닐라 쿠키 30개와 초콜릿 쿠키 10개가 있습니다.\n",
    ">\n",
    "> * 2번 그릇에는 바닐라 쿠키 20개와 초콜릿 쿠키 20개가 있습니다.\n",
    ">\n",
    "> 이제 그 중 하나의 그릇을 무작위로 선택하고, 보지 않고 무작위로 쿠키를 하나 선택했다고 가정합시다. 선택한 쿠키가 바닐라 쿠키라면, 그 쿠키가 1번 그릇에서 나온 확률은 얼마일까요?\n",
    "\n",
    "우리가 구하고 싶은 것은 바닐라 쿠키를 선택했다는 조건 하에 1번 그릇에서 선택했을 확률, 즉 $ P(B_1 | V) $입니다.\n",
    "\n",
    "하지만 문제의 서술에서 얻을 수 있는 정보는 다음과 같습니다:\n",
    "\n",
    "* 1번 그릇에서 선택했을 때 바닐라 쿠키를 선택할 조건부 확률, $ P(V | B_1) $\n",
    "* 2번 그릇에서 선택했을 때 바닐라 쿠키를 선택할 조건부 확률, $ P(V | B_2) $\n",
    "\n",
    "\n",
    "**베이즈 정리**는 이들이 어떻게 관련되는지를 알려줍니다:\n",
    "\n",
    "$$P(B_1|V) = \\frac{P(B_1)~P(V|B_1)}{P(V)}$$\n",
    "\n",
    "왼쪽 항은 우리가 구하고자 하는 값입니다. 오른쪽 항들의 의미는 다음과 같습니다:\n",
    "\n",
    "- $P(B_1)$: 우리가 어떤 종류의 쿠키를 얻었는지에 상관없이 1번 그릇을 선택했을 확률입니다.\n",
    "  문제에서 우리는 그릇을 무작위로 선택했다고 했으므로, $P(B_1) = 1/2$로 가정할 수 있습니다.\n",
    "\n",
    "- $P(V|B_1)$: 1번 그릇에서 바닐라 쿠키를 선택할 확률은 3/4입니다.\n",
    "\n",
    "- $P(V)$: 두 그릇 중 어느 그릇에서든 바닐라 쿠키를 뽑을 확률입니다.\n",
    "\n",
    "\n",
    "$P(V)$를 계산하기 위해, **전체 확률의 법칙**을 사용할 수 있습니다:\n",
    "\n",
    "$$P(V) = P(B_1)~P(V|B_1) ~+~ P(B_2)~P(V|B_2)$$\n",
    "\n",
    "문제에서 제공된 수치를 대입하면,\n",
    "\n",
    "$$P(V) = (1/2)~(3/4) ~+~ (1/2)~(1/2) = 5/8$$\n",
    "\n",
    "또한 이 결과를 직접적으로 계산할 수도 있습니다. 다음과 같습니다:\n",
    "\n",
    "- 두 그릇 중 하나를 선택할 확률이 같았고, 그릇마다 쿠키 개수가 동일하므로 어떤 쿠키를 선택할 확률도 동일합니다.\n",
    "\n",
    "- 두 그릇을 합하면 바닐라 쿠키는 50개, 초콜릿 쿠키는 30개이므로, $P(V) = 5/8$입니다.\n",
    "\n",
    "\n",
    "\n",
    "마지막으로, 베이즈 정리를 적용하여 1번 그릇의 사후 확률을 계산할 수 있습니다:\n",
    "\n",
    "$$P(B_1|V) = (1/2)~(3/4)~/~(5/8) = 3/5$$\n",
    "\n",
    "이 예시는 베이즈 정리의 한 가지 용도를 보여줍니다: 베이즈 정리는 $P(B|A)$에서 $P(A|B)$로 가는 방법을 제공합니다.  \n",
    "이 전략은 왼쪽 항보다 오른쪽 항을 계산하는 것이 더 쉬운 경우, 이와 같은 문제에서 유용하게 사용됩니다.\n",
    "\n"
   ]
  },
  {
   "cell_type": "markdown",
   "metadata": {},
   "source": [
    "## 요약\n",
    "\n",
    "$P(B_1|V)$ : 랜덤한 그릇에서 바닐라를 꺼쟀을때 $B_1$인 확률\n",
    "\n",
    "$P(V|B_1)$ : $B_1$ 그릇 중에서 바닐라를 꺼낼 확률 (3/4)\n",
    "\n",
    "$P(V|B_2)$ : $B_2$ 그릇 중에서 바닐라를 꺼낼 확률 (1/2)\n",
    "\n",
    "$P(B_1)$ : $B_1$ 확률 (1/2)\n",
    "\n",
    "$P(B_2)$ : $B_2$ 확률 (1/2)\n",
    "\n",
    "$P(V)$ : 바닐라를 꺼낼 전체 확률 $ P(V) = P(B_1)~P(V|B_1) ~+~ P(B_2)~P(V|B_2) = (1/2)~(3/4) ~+~ (1/2)~(1/2) = 5/8$\n",
    "\n",
    "\n",
    "따라서 $ P(B_1|V) = \\frac{P(B_1)P(V|B_1)}{P(V)}  = (1/2)~(3/4)~/~(5/8) = 3/5$\n"
   ]
  },
  {
   "cell_type": "markdown",
   "metadata": {},
   "source": [
    "## **통시적 베이즈 (Diachronic Bayes)**\n",
    "\n",
    "베이즈 정리를 생각하는 또 다른 방법이 있습니다: 어떤 데이터 $D$를 바탕으로 가설 $H$의 확률을 갱신하는 방법을 제공합니다.\n",
    "\n",
    "이 해석은 \"통시적\"이라는 뜻으로, \"시간에 따른 변화와 관련된\" 것을 의미합니다. 이 경우, 가설의 확률은 새로운 데이터를 접할 때마다 변화합니다.\n",
    "\n",
    "베이즈 정리를 $H$와 $D$로 다시 쓰면:\n",
    "\n",
    "$$P(H|D) = \\frac{P(H)~P(D|H)}{P(D)}$$\n",
    "\n",
    "이 해석에서 각 항의 이름은 다음과 같습니다:\n",
    "\n",
    "- $P(H)$는 데이터를 보기 전에 가설의 확률로, **사전 확률** (prior probability) 또는 간단히 **사전 확률**이라 부릅니다.\n",
    "\n",
    "- $P(H|D)$는 데이터를 본 후 가설의 확률로, **사후 확률** (posterior probability)이라 부릅니다.\n",
    "\n",
    "- $P(D|H)$는 가설 하에서 데이터의 확률로, **우도** (likelihood)라 부릅니다.\n",
    "\n",
    "- $P(D)$는 **데이터의 총 확률**로, 모든 가설을 고려한 데이터의 확률입니다.\n",
    "\n",
    "때때로 우리는 사전 확률을 배경 정보에 기반하여 계산할 수 있습니다. 예를 들어, 쿠키 문제에서는 그릇을 무작위로 동일한 확률로 선택한다고 명시되어 있습니다.\n",
    "\n",
    "다른 경우에 사전 확률은 주관적일 수 있습니다. 즉, 합리적인 사람들끼리도 서로 다른 배경 정보를 사용하거나, 같은 정보를 다르게 해석하기 때문에 의견이 다를 수 있습니다.\n",
    "\n",
    "우도는 일반적으로 가장 계산하기 쉬운 부분입니다. 쿠키 문제에서 우리는 각 그릇에 있는 쿠키의 수를 알고 있기 때문에, 각 가설 하에서 데이터의 확률을 계산할 수 있습니다.\n",
    "\n",
    "\n",
    "데이터의 총 확률을 계산하는 것은 까다로울 수 있습니다.  \n",
    "데이터를 **어떤 가설 하에서도** 볼 수 있는 확률이어야 하지만, 그것이 정확히 무엇을 의미하는지 명확히 하기가 어려울 수 있습니다.\n",
    "\n",
    "대부분의 경우, 우리는 다음과 같은 가설 세트를 명시하여 문제를 단순화합니다:\n",
    "\n",
    "- **상호 배타적**이라는 것은, 오직 하나의 가설만이 참일 수 있다는 의미입니다.\n",
    "- **모두 포괄적**이라는 것은, 가설 중 하나는 반드시 참이라는 의미입니다.\n",
    "\n",
    "이 조건들이 적용되면, 우리는 **전체 확률의 법칙**을 사용하여 $P(D)$를 계산할 수 있습니다. 예를 들어, 두 가지 가설 $H_1$과 $H_2$가 있을 때:\n",
    "\n",
    "$$P(D) = P(H_1)~P(D|H_1) + P(H_2)~P(D|H_2)$$\n",
    "\n",
    "좀 더 일반적으로, 어떤 수의 가설이 있을 때:\n",
    "\n",
    "$$P(D) = \\sum_i P(H_i)~P(D|H_i)$$\n",
    "\n",
    "이 섹션에서 설명한 과정, 즉 데이터를 사용하여 사전 확률을 바탕으로 사후 확률을 계산하는 과정을 **베이지안 업데이트** (Bayesian update)라고 부릅니다.\n",
    "\n"
   ]
  },
  {
   "cell_type": "markdown",
   "metadata": {},
   "source": [
    "1. $P(H)$ : prior 사전확률 hypothesis(가설)\n",
    "2. $P(D|H)$ : likelihood(가능도) 가설H에서 데이터D가 나올 확률\n",
    "3. $P(H)P(D|H)$ : 사전확률 * 가능도\n",
    "3. $P(D) = \\sum_i P(H_i)~P(D|H_i)$ : 사건D의 전체확률 data\n",
    "3. $P(H|D)$ : posterior 사후확률"
   ]
  },
  {
   "cell_type": "markdown",
   "metadata": {},
   "source": [
    "## **베이즈 테이블**(Bayes Tables)\n",
    "\n",
    "베이지안 업데이트를 수행하는 데 편리한 도구는 **베이즈 테이블**입니다. 베이즈 테이블을 종이에 작성할 수도 있고, 스프레드시트를 사용할 수도 있지만, 이 섹션에서는 Pandas의 `DataFrame`을 사용할 것입니다.\n",
    "\n",
    "우선 각 가설마다 하나의 행을 가진 빈 `DataFrame`을 만들겠습니다.\n"
   ]
  },
  {
   "cell_type": "markdown",
   "metadata": {},
   "source": [
    "$P(H)$"
   ]
  },
  {
   "cell_type": "code",
   "execution_count": 2,
   "metadata": {},
   "outputs": [
    {
     "data": {
      "text/html": [
       "<div>\n",
       "<style scoped>\n",
       "    .dataframe tbody tr th:only-of-type {\n",
       "        vertical-align: middle;\n",
       "    }\n",
       "\n",
       "    .dataframe tbody tr th {\n",
       "        vertical-align: top;\n",
       "    }\n",
       "\n",
       "    .dataframe thead th {\n",
       "        text-align: right;\n",
       "    }\n",
       "</style>\n",
       "<table border=\"1\" class=\"dataframe\">\n",
       "  <thead>\n",
       "    <tr style=\"text-align: right;\">\n",
       "      <th></th>\n",
       "      <th>prior</th>\n",
       "    </tr>\n",
       "  </thead>\n",
       "  <tbody>\n",
       "    <tr>\n",
       "      <th>Bowl 1</th>\n",
       "      <td>0.5</td>\n",
       "    </tr>\n",
       "    <tr>\n",
       "      <th>Bowl 2</th>\n",
       "      <td>0.5</td>\n",
       "    </tr>\n",
       "  </tbody>\n",
       "</table>\n",
       "</div>"
      ],
      "text/plain": [
       "        prior\n",
       "Bowl 1    0.5\n",
       "Bowl 2    0.5"
      ]
     },
     "execution_count": 2,
     "metadata": {},
     "output_type": "execute_result"
    }
   ],
   "source": [
    "import pandas as pd\n",
    "\n",
    "table = pd.DataFrame(index=['Bowl 1', 'Bowl 2'])\n",
    "table['prior'] = 1/2, 1/2 # 사전확률 여기서는 1/2로 가정\n",
    "table"
   ]
  },
  {
   "cell_type": "markdown",
   "metadata": {},
   "source": [
    "$P(D|H)$ "
   ]
  },
  {
   "cell_type": "code",
   "execution_count": 3,
   "metadata": {},
   "outputs": [
    {
     "data": {
      "text/html": [
       "<div>\n",
       "<style scoped>\n",
       "    .dataframe tbody tr th:only-of-type {\n",
       "        vertical-align: middle;\n",
       "    }\n",
       "\n",
       "    .dataframe tbody tr th {\n",
       "        vertical-align: top;\n",
       "    }\n",
       "\n",
       "    .dataframe thead th {\n",
       "        text-align: right;\n",
       "    }\n",
       "</style>\n",
       "<table border=\"1\" class=\"dataframe\">\n",
       "  <thead>\n",
       "    <tr style=\"text-align: right;\">\n",
       "      <th></th>\n",
       "      <th>prior</th>\n",
       "      <th>likelihood</th>\n",
       "    </tr>\n",
       "  </thead>\n",
       "  <tbody>\n",
       "    <tr>\n",
       "      <th>Bowl 1</th>\n",
       "      <td>0.5</td>\n",
       "      <td>0.75</td>\n",
       "    </tr>\n",
       "    <tr>\n",
       "      <th>Bowl 2</th>\n",
       "      <td>0.5</td>\n",
       "      <td>0.50</td>\n",
       "    </tr>\n",
       "  </tbody>\n",
       "</table>\n",
       "</div>"
      ],
      "text/plain": [
       "        prior  likelihood\n",
       "Bowl 1    0.5        0.75\n",
       "Bowl 2    0.5        0.50"
      ]
     },
     "execution_count": 3,
     "metadata": {},
     "output_type": "execute_result"
    }
   ],
   "source": [
    "table['likelihood'] = 3/4, 1/2 # 가능도(우도)\n",
    "table"
   ]
  },
  {
   "cell_type": "markdown",
   "metadata": {},
   "source": [
    "여기서 이전 방법과의 차이점이 있습니다: 1번 그릇뿐만 아니라 두 가설에 대해 모두 우도를 계산합니다.\n",
    "\n",
    "- 1번 그릇에서 바닐라 쿠키를 얻을 확률은 3/4입니다.\n",
    "\n",
    "- 2번 그릇에서 바닐라 쿠키를 얻을 확률은 1/2입니다.\n",
    "\n",
    "우도 값들이 1로 합쳐지지 않는다는 것을 눈치챘을 수도 있습니다. 괜찮습니다; 각각은 서로 다른 가설에 조건부된 확률이기 때문에 1로 합쳐질 필요가 없으며, 합쳐지지 않아도 문제가 되지 않습니다.\n",
    "\n",
    "다음 단계는 베이즈 정리를 사용했던 것과 비슷합니다. 사전 확률에 우도를 곱합니다.\n"
   ]
  },
  {
   "cell_type": "markdown",
   "metadata": {},
   "source": [
    " $P(H)P(D|H)$"
   ]
  },
  {
   "cell_type": "code",
   "execution_count": 4,
   "metadata": {},
   "outputs": [
    {
     "data": {
      "text/html": [
       "<div>\n",
       "<style scoped>\n",
       "    .dataframe tbody tr th:only-of-type {\n",
       "        vertical-align: middle;\n",
       "    }\n",
       "\n",
       "    .dataframe tbody tr th {\n",
       "        vertical-align: top;\n",
       "    }\n",
       "\n",
       "    .dataframe thead th {\n",
       "        text-align: right;\n",
       "    }\n",
       "</style>\n",
       "<table border=\"1\" class=\"dataframe\">\n",
       "  <thead>\n",
       "    <tr style=\"text-align: right;\">\n",
       "      <th></th>\n",
       "      <th>prior</th>\n",
       "      <th>likelihood</th>\n",
       "      <th>unnorm</th>\n",
       "    </tr>\n",
       "  </thead>\n",
       "  <tbody>\n",
       "    <tr>\n",
       "      <th>Bowl 1</th>\n",
       "      <td>0.5</td>\n",
       "      <td>0.75</td>\n",
       "      <td>0.375</td>\n",
       "    </tr>\n",
       "    <tr>\n",
       "      <th>Bowl 2</th>\n",
       "      <td>0.5</td>\n",
       "      <td>0.50</td>\n",
       "      <td>0.250</td>\n",
       "    </tr>\n",
       "  </tbody>\n",
       "</table>\n",
       "</div>"
      ],
      "text/plain": [
       "        prior  likelihood  unnorm\n",
       "Bowl 1    0.5        0.75   0.375\n",
       "Bowl 2    0.5        0.50   0.250"
      ]
     },
     "execution_count": 4,
     "metadata": {},
     "output_type": "execute_result"
    }
   ],
   "source": [
    "table['unnorm'] = table['prior'] * table['likelihood']\n",
    "table"
   ]
  },
  {
   "cell_type": "markdown",
   "metadata": {},
   "source": [
    "\n",
    "저는 이 결과를 `unnorm`이라고 부르는데, 이는 \"정규화되지 않은 사후 확률 (unnormalized posteriors)\"이기 때문입니다. 각각은 사전 확률과 우도의 곱입니다:\n",
    "\n",
    "$$P(H_i)~P(D|H_i)$$\n",
    "\n",
    "이는 베이즈 정리의 분자에 해당합니다. 이 값을 모두 더하면,\n",
    "\n",
    "$$P(H_1)~P(D|H_1) + P(H_2)~P(D|H_2)$$\n",
    "\n",
    "이는 베이즈 정리의 분모인 $P(D)$에 해당합니다.\n",
    "\n",
    "따라서 다음과 같이 데이터의 총 확률을 계산할 수 있습니다:\n"
   ]
  },
  {
   "cell_type": "markdown",
   "metadata": {},
   "source": [
    "$P(D) = \\sum_i P(H_i)~P(D|H_i)$"
   ]
  },
  {
   "cell_type": "code",
   "execution_count": 5,
   "metadata": {},
   "outputs": [
    {
     "data": {
      "text/plain": [
       "0.625"
      ]
     },
     "execution_count": 5,
     "metadata": {},
     "output_type": "execute_result"
    }
   ],
   "source": [
    "prob_data = table['unnorm'].sum()\n",
    "prob_data"
   ]
  },
  {
   "cell_type": "markdown",
   "metadata": {},
   "source": [
    "우리가 5/8을 얻는 것을 확인할 수 있는데, 이는 $P(D)$를 직접 계산하여 얻은 값과 동일합니다.\n",
    "\n",
    "그리고 사후 확률은 다음과 같이 계산할 수 있습니다:"
   ]
  },
  {
   "cell_type": "markdown",
   "metadata": {},
   "source": [
    " $P(H|D) = \\frac{P(H)~P(D|H)}{P(D)}$"
   ]
  },
  {
   "cell_type": "code",
   "execution_count": 6,
   "metadata": {},
   "outputs": [
    {
     "data": {
      "text/html": [
       "<div>\n",
       "<style scoped>\n",
       "    .dataframe tbody tr th:only-of-type {\n",
       "        vertical-align: middle;\n",
       "    }\n",
       "\n",
       "    .dataframe tbody tr th {\n",
       "        vertical-align: top;\n",
       "    }\n",
       "\n",
       "    .dataframe thead th {\n",
       "        text-align: right;\n",
       "    }\n",
       "</style>\n",
       "<table border=\"1\" class=\"dataframe\">\n",
       "  <thead>\n",
       "    <tr style=\"text-align: right;\">\n",
       "      <th></th>\n",
       "      <th>prior</th>\n",
       "      <th>likelihood</th>\n",
       "      <th>unnorm</th>\n",
       "      <th>posterior</th>\n",
       "    </tr>\n",
       "  </thead>\n",
       "  <tbody>\n",
       "    <tr>\n",
       "      <th>Bowl 1</th>\n",
       "      <td>0.5</td>\n",
       "      <td>0.75</td>\n",
       "      <td>0.375</td>\n",
       "      <td>0.6</td>\n",
       "    </tr>\n",
       "    <tr>\n",
       "      <th>Bowl 2</th>\n",
       "      <td>0.5</td>\n",
       "      <td>0.50</td>\n",
       "      <td>0.250</td>\n",
       "      <td>0.4</td>\n",
       "    </tr>\n",
       "  </tbody>\n",
       "</table>\n",
       "</div>"
      ],
      "text/plain": [
       "        prior  likelihood  unnorm  posterior\n",
       "Bowl 1    0.5        0.75   0.375        0.6\n",
       "Bowl 2    0.5        0.50   0.250        0.4"
      ]
     },
     "execution_count": 6,
     "metadata": {},
     "output_type": "execute_result"
    }
   ],
   "source": [
    "table['posterior'] = table['unnorm'] / prob_data # normalization\n",
    "table"
   ]
  },
  {
   "cell_type": "markdown",
   "metadata": {},
   "source": [
    "1번 그릇에 대한 사후 확률은 0.6으로, 이는 베이즈 정리를 명시적으로 사용하여 얻은 값과 동일합니다. 보너스로, 2번 그릇에 대한 사후 확률도 0.4임을 알 수 있습니다.\n",
    "\n",
    "정규화되지 않은 사후 확률을 모두 더하고 이를 나누면, 사후 확률의 합이 1이 되도록 합니다. 이 과정을 \"정규화 (normalization)\"라고 부르며, 이 때문에 데이터의 총 확률을 \"정규화 상수 (normalizing constant)\"라고도 합니다."
   ]
  },
  {
   "cell_type": "markdown",
   "metadata": {},
   "source": [
    "## **주사위 문제** (The Dice Problem)\n",
    "\n",
    "베이즈 테이블은 두 가지 이상의 가설이 있는 문제도 해결할 수 있습니다. 예를 들어:\n",
    "\n",
    "> 내가 6면체 주사위, 8면체 주사위, 그리고 12면체 주사위가 들어 있는 상자를 가지고 있다고 가정해 봅시다. 나는 주사위 중 하나를 무작위로 선택하여 굴린 후, 결과가 1이라고 보고했습니다. 내가 선택한 주사위가 6면체 주사위일 확률은 얼마일까요?\n",
    "\n",
    "이 예에서는 세 가지 가설이 있으며, 각 가설의 사전 확률은 동일합니다. 데이터는 결과가 1이라는 나의 보고입니다.\n",
    "\n",
    "6면체 주사위를 선택했다면 데이터의 확률은 1/6이고, 8면체 주사위를 선택했다면 1/8, 12면체 주사위를 선택했다면 1/12입니다.\n",
    "\n",
    "다음은 정수로 가설을 표현한 베이즈 테이블입니다:\n"
   ]
  },
  {
   "cell_type": "code",
   "execution_count": 7,
   "metadata": {},
   "outputs": [
    {
     "data": {
      "text/html": [
       "<div>\n",
       "<style scoped>\n",
       "    .dataframe tbody tr th:only-of-type {\n",
       "        vertical-align: middle;\n",
       "    }\n",
       "\n",
       "    .dataframe tbody tr th {\n",
       "        vertical-align: top;\n",
       "    }\n",
       "\n",
       "    .dataframe thead th {\n",
       "        text-align: right;\n",
       "    }\n",
       "</style>\n",
       "<table border=\"1\" class=\"dataframe\">\n",
       "  <thead>\n",
       "    <tr style=\"text-align: right;\">\n",
       "      <th></th>\n",
       "      <th>prior</th>\n",
       "    </tr>\n",
       "  </thead>\n",
       "  <tbody>\n",
       "    <tr>\n",
       "      <th>6</th>\n",
       "      <td>1/3</td>\n",
       "    </tr>\n",
       "    <tr>\n",
       "      <th>8</th>\n",
       "      <td>1/3</td>\n",
       "    </tr>\n",
       "    <tr>\n",
       "      <th>12</th>\n",
       "      <td>1/3</td>\n",
       "    </tr>\n",
       "  </tbody>\n",
       "</table>\n",
       "</div>"
      ],
      "text/plain": [
       "   prior\n",
       "6    1/3\n",
       "8    1/3\n",
       "12   1/3"
      ]
     },
     "execution_count": 7,
     "metadata": {},
     "output_type": "execute_result"
    }
   ],
   "source": [
    "from fractions import Fraction\n",
    "\n",
    "table2 = pd.DataFrame(index=[6, 8, 12])\n",
    "table2['prior'] = Fraction(1, 3)\n",
    "table2"
   ]
  },
  {
   "cell_type": "markdown",
   "metadata": {},
   "source": [
    "사전 확률과 우도를 나타내기 위해 분수를 사용할 것입니다. 이렇게 하면 값이 부동 소수점 숫자로 반올림되지 않게 됩니다."
   ]
  },
  {
   "cell_type": "code",
   "execution_count": 8,
   "metadata": {},
   "outputs": [
    {
     "data": {
      "text/html": [
       "<div>\n",
       "<style scoped>\n",
       "    .dataframe tbody tr th:only-of-type {\n",
       "        vertical-align: middle;\n",
       "    }\n",
       "\n",
       "    .dataframe tbody tr th {\n",
       "        vertical-align: top;\n",
       "    }\n",
       "\n",
       "    .dataframe thead th {\n",
       "        text-align: right;\n",
       "    }\n",
       "</style>\n",
       "<table border=\"1\" class=\"dataframe\">\n",
       "  <thead>\n",
       "    <tr style=\"text-align: right;\">\n",
       "      <th></th>\n",
       "      <th>prior</th>\n",
       "      <th>likelihood</th>\n",
       "    </tr>\n",
       "  </thead>\n",
       "  <tbody>\n",
       "    <tr>\n",
       "      <th>6</th>\n",
       "      <td>1/3</td>\n",
       "      <td>1/6</td>\n",
       "    </tr>\n",
       "    <tr>\n",
       "      <th>8</th>\n",
       "      <td>1/3</td>\n",
       "      <td>1/8</td>\n",
       "    </tr>\n",
       "    <tr>\n",
       "      <th>12</th>\n",
       "      <td>1/3</td>\n",
       "      <td>1/12</td>\n",
       "    </tr>\n",
       "  </tbody>\n",
       "</table>\n",
       "</div>"
      ],
      "text/plain": [
       "   prior likelihood\n",
       "6    1/3        1/6\n",
       "8    1/3        1/8\n",
       "12   1/3       1/12"
      ]
     },
     "execution_count": 8,
     "metadata": {},
     "output_type": "execute_result"
    }
   ],
   "source": [
    "table2['likelihood'] = [Fraction(1, 6), Fraction(1, 8), Fraction(1, 12)]\n",
    "table2"
   ]
  },
  {
   "cell_type": "markdown",
   "metadata": {},
   "source": [
    "사전 확률과 우도를 설정하면, 남은 단계는 항상 동일하므로 이를 함수로 작성하겠습니다."
   ]
  },
  {
   "cell_type": "code",
   "execution_count": 9,
   "metadata": {},
   "outputs": [],
   "source": [
    "def update(table):\n",
    "    table['unnorm'] = table['prior'] * table['likelihood']\n",
    "    prob_data = table['unnorm'].sum()\n",
    "    table['posterior'] = table['unnorm'] / prob_data\n",
    "    return prob_data"
   ]
  },
  {
   "cell_type": "code",
   "execution_count": 10,
   "metadata": {},
   "outputs": [
    {
     "data": {
      "text/plain": [
       "Fraction(1, 8)"
      ]
     },
     "execution_count": 10,
     "metadata": {},
     "output_type": "execute_result"
    }
   ],
   "source": [
    "prob_data = update(table2)\n",
    "prob_data"
   ]
  },
  {
   "cell_type": "code",
   "execution_count": 11,
   "metadata": {},
   "outputs": [
    {
     "data": {
      "text/html": [
       "<div>\n",
       "<style scoped>\n",
       "    .dataframe tbody tr th:only-of-type {\n",
       "        vertical-align: middle;\n",
       "    }\n",
       "\n",
       "    .dataframe tbody tr th {\n",
       "        vertical-align: top;\n",
       "    }\n",
       "\n",
       "    .dataframe thead th {\n",
       "        text-align: right;\n",
       "    }\n",
       "</style>\n",
       "<table border=\"1\" class=\"dataframe\">\n",
       "  <thead>\n",
       "    <tr style=\"text-align: right;\">\n",
       "      <th></th>\n",
       "      <th>prior</th>\n",
       "      <th>likelihood</th>\n",
       "      <th>unnorm</th>\n",
       "      <th>posterior</th>\n",
       "    </tr>\n",
       "  </thead>\n",
       "  <tbody>\n",
       "    <tr>\n",
       "      <th>6</th>\n",
       "      <td>1/3</td>\n",
       "      <td>1/6</td>\n",
       "      <td>1/18</td>\n",
       "      <td>4/9</td>\n",
       "    </tr>\n",
       "    <tr>\n",
       "      <th>8</th>\n",
       "      <td>1/3</td>\n",
       "      <td>1/8</td>\n",
       "      <td>1/24</td>\n",
       "      <td>1/3</td>\n",
       "    </tr>\n",
       "    <tr>\n",
       "      <th>12</th>\n",
       "      <td>1/3</td>\n",
       "      <td>1/12</td>\n",
       "      <td>1/36</td>\n",
       "      <td>2/9</td>\n",
       "    </tr>\n",
       "  </tbody>\n",
       "</table>\n",
       "</div>"
      ],
      "text/plain": [
       "   prior likelihood unnorm posterior\n",
       "6    1/3        1/6   1/18       4/9\n",
       "8    1/3        1/8   1/24       1/3\n",
       "12   1/3       1/12   1/36       2/9"
      ]
     },
     "execution_count": 11,
     "metadata": {},
     "output_type": "execute_result"
    }
   ],
   "source": [
    "table2"
   ]
  },
  {
   "cell_type": "markdown",
   "metadata": {},
   "source": [
    "6면체 주사위의 사후 확률은 4/9로, 다른 주사위의 확률인 3/9와 2/9보다 약간 더 높습니다. 직관적으로, 6면체 주사위가 우리가 본 결과를 가장 높은 확률로 만들어낼 수 있었기 때문에 가장 가능성이 높다고 할 수 있습니다."
   ]
  },
  {
   "cell_type": "markdown",
   "metadata": {},
   "source": [
    "## **몬티 홀 문제** (The Monty Hall Problem)\n",
    "\n",
    "다음으로, 베이즈 테이블을 사용하여 확률 이론에서 가장 논쟁적인 문제 중 하나를 해결해 보겠습니다.\n",
    "\n",
    "**몬티 홀 문제**는 *Let's Make a Deal*이라는 게임 쇼에 기반을 두고 있습니다. 당신이 이 쇼의 참가자라고 가정했을 때, 게임의 진행 방식은 다음과 같습니다:\n",
    "\n",
    "- 사회자인 몬티 홀은 세 개의 닫힌 문 (번호는 1, 2, 3번) 앞에 당신을 세우고, 각 문 뒤에 상금이 있다고 알려줍니다.\n",
    "\n",
    "- 한 개의 상금은 가치가 높은 상품 (전통적으로 자동차)이고, 나머지 두 개는 가치가 낮은 상품 (전통적으로 염소)입니다.\n",
    "\n",
    "- 게임의 목표는 자동차가 있는 문을 맞추는 것입니다. 만약 당신이 맞추면, 자동차를 가질 수 있습니다.\n",
    "\n",
    "당신이 1번 문을 선택했다고 가정합시다. 당신이 선택한 문을 열기 전에, 몬티가 3번 문을 열어 염소를 보여줍니다. 그러고 나서 몬티는 원래 선택을 유지할지, 아니면 남은 열리지 않은 문으로 바꿀지를 선택할 기회를 제공합니다.\n",
    "\n",
    "자동차를 얻을 확률을 최대화하려면, 1번 문을 유지하는 것이 좋을까요, 아니면 2번 문으로 바꾸는 것이 좋을까요?\n",
    "\n",
    "이 질문에 답하기 위해 우리는 사회자의 행동에 대해 몇 가지 가정을 해야 합니다:\n",
    "\n",
    "1.  몬티는 항상 문을 하나 열고, 당신에게 선택을 바꿀 기회를 제공합니다.\n",
    "\n",
    "2.  그는 당신이 선택한 문이나 자동차가 있는 문은 절대 열지 않습니다.\n",
    "\n",
    "3.  당신이 자동차가 있는 문을 선택했을 경우, 그는 나머지 두 문 중 하나를 무작위로 선택하여 엽니다.\n",
    "\n",
    "이 가정 하에서는, 선택을 바꾸는 것이 유리합니다.  \n",
    "선택을 유지하면 당신이 이길 확률은 $1/3$입니다. 선택을 바꾸면 이길 확률은 $2/3$입니다.\n",
    "\n",
    "이 문제를 처음 접했다면 이 답이 놀랍게 느껴질 수 있습니다. 혼자만의 느낌은 아닙니다; 많은 사람들이 선택을 유지하든 바꾸든 확률이 같다고 강하게 직관적으로 느낍니다. 남은 문이 두 개이기 때문에, 자동차가 A 문 뒤에 있을 확률이 50%라고 생각할 수도 있습니다. 하지만 그것은 잘못된 판단입니다.\n",
    "\n",
    "이유를 이해하기 위해 베이즈 테이블을 사용하는 것이 도움이 될 수 있습니다. 우리는 세 가지 가설로 시작합니다: 자동차가 1번, 2번, 또는 3번 문 뒤에 있을 수 있습니다. 문제 설명에 따르면, 각 문이 선택될 사전 확률은 $1/3$입니다.\n"
   ]
  },
  {
   "cell_type": "markdown",
   "metadata": {},
   "source": [
    "$P(D_1)$ $P(D_2)$ $P(D_3)$ 각각의 문뒤에 자동차가 있을 사전 확률은 1/3"
   ]
  },
  {
   "cell_type": "code",
   "execution_count": 12,
   "metadata": {},
   "outputs": [
    {
     "data": {
      "text/html": [
       "<div>\n",
       "<style scoped>\n",
       "    .dataframe tbody tr th:only-of-type {\n",
       "        vertical-align: middle;\n",
       "    }\n",
       "\n",
       "    .dataframe tbody tr th {\n",
       "        vertical-align: top;\n",
       "    }\n",
       "\n",
       "    .dataframe thead th {\n",
       "        text-align: right;\n",
       "    }\n",
       "</style>\n",
       "<table border=\"1\" class=\"dataframe\">\n",
       "  <thead>\n",
       "    <tr style=\"text-align: right;\">\n",
       "      <th></th>\n",
       "      <th>prior</th>\n",
       "    </tr>\n",
       "  </thead>\n",
       "  <tbody>\n",
       "    <tr>\n",
       "      <th>door 1</th>\n",
       "      <td>1/3</td>\n",
       "    </tr>\n",
       "    <tr>\n",
       "      <th>door 2</th>\n",
       "      <td>1/3</td>\n",
       "    </tr>\n",
       "    <tr>\n",
       "      <th>door 3</th>\n",
       "      <td>1/3</td>\n",
       "    </tr>\n",
       "  </tbody>\n",
       "</table>\n",
       "</div>"
      ],
      "text/plain": [
       "       prior\n",
       "door 1   1/3\n",
       "door 2   1/3\n",
       "door 3   1/3"
      ]
     },
     "execution_count": 12,
     "metadata": {},
     "output_type": "execute_result"
    }
   ],
   "source": [
    "table3 = pd.DataFrame(index=['door 1', 'door 2', 'door 3'])\n",
    "table3['prior'] = Fraction(1, 3)\n",
    "table3"
   ]
  },
  {
   "cell_type": "markdown",
   "metadata": {},
   "source": [
    "\n",
    "데이터는 몬티가 3번 문을 열어 염소를 보여주었다는 것입니다. 그러므로 각 가설 하에서 데이터의 확률을 고려해 보겠습니다:\n",
    "\n",
    "- 자동차가 1번 문 뒤에 있다면, 몬티는 2번 문이나 3번 문을 무작위로 선택합니다. 따라서 그가 3번 문을 여는 확률은 $1/2$입니다.\n",
    "\n",
    "- 자동차가 2번 문 뒤에 있다면, 몬티는 반드시 3번 문을 열어야 하므로 이 가설 하에서 데이터의 확률은 1입니다.\n",
    "\n",
    "- 자동차가 3번 문 뒤에 있다면, 몬티는 그것을 열지 않으므로 이 가설 하에서 데이터의 확률은 0입니다.\n",
    "\n",
    "여기서 우도 값들이 나옵니다.\n"
   ]
  },
  {
   "cell_type": "markdown",
   "metadata": {},
   "source": [
    "* $P(M_3|D_1)$ : 문1에 차가 있을 때 몬티가 문3를 열었을 확률은 1,3 중 하나 1/2\n",
    "* $P(M_3|D_2)$ : 문2에 차가 있을 때 몬티가 문3를 열었을 확률은 1\n",
    "* $P(M_3|D_3)$ : 문3에 차가 있을 때 몬티가 문3를 열었을 확률은 0"
   ]
  },
  {
   "cell_type": "code",
   "execution_count": 13,
   "metadata": {},
   "outputs": [
    {
     "data": {
      "text/html": [
       "<div>\n",
       "<style scoped>\n",
       "    .dataframe tbody tr th:only-of-type {\n",
       "        vertical-align: middle;\n",
       "    }\n",
       "\n",
       "    .dataframe tbody tr th {\n",
       "        vertical-align: top;\n",
       "    }\n",
       "\n",
       "    .dataframe thead th {\n",
       "        text-align: right;\n",
       "    }\n",
       "</style>\n",
       "<table border=\"1\" class=\"dataframe\">\n",
       "  <thead>\n",
       "    <tr style=\"text-align: right;\">\n",
       "      <th></th>\n",
       "      <th>prior</th>\n",
       "      <th>likelihood</th>\n",
       "    </tr>\n",
       "  </thead>\n",
       "  <tbody>\n",
       "    <tr>\n",
       "      <th>door 1</th>\n",
       "      <td>1/3</td>\n",
       "      <td>1/2</td>\n",
       "    </tr>\n",
       "    <tr>\n",
       "      <th>door 2</th>\n",
       "      <td>1/3</td>\n",
       "      <td>1</td>\n",
       "    </tr>\n",
       "    <tr>\n",
       "      <th>door 3</th>\n",
       "      <td>1/3</td>\n",
       "      <td>0</td>\n",
       "    </tr>\n",
       "  </tbody>\n",
       "</table>\n",
       "</div>"
      ],
      "text/plain": [
       "       prior likelihood\n",
       "door 1   1/3        1/2\n",
       "door 2   1/3          1\n",
       "door 3   1/3          0"
      ]
     },
     "execution_count": 13,
     "metadata": {},
     "output_type": "execute_result"
    }
   ],
   "source": [
    "table3['likelihood'] = [Fraction(1, 2), 1, 0]\n",
    "table3"
   ]
  },
  {
   "cell_type": "markdown",
   "metadata": {},
   "source": [
    "$ P(D_i)P(M_3|D_i) $"
   ]
  },
  {
   "cell_type": "code",
   "execution_count": 14,
   "metadata": {},
   "outputs": [
    {
     "data": {
      "text/html": [
       "<div>\n",
       "<style scoped>\n",
       "    .dataframe tbody tr th:only-of-type {\n",
       "        vertical-align: middle;\n",
       "    }\n",
       "\n",
       "    .dataframe tbody tr th {\n",
       "        vertical-align: top;\n",
       "    }\n",
       "\n",
       "    .dataframe thead th {\n",
       "        text-align: right;\n",
       "    }\n",
       "</style>\n",
       "<table border=\"1\" class=\"dataframe\">\n",
       "  <thead>\n",
       "    <tr style=\"text-align: right;\">\n",
       "      <th></th>\n",
       "      <th>prior</th>\n",
       "      <th>likelihood</th>\n",
       "      <th>unnorm</th>\n",
       "    </tr>\n",
       "  </thead>\n",
       "  <tbody>\n",
       "    <tr>\n",
       "      <th>door 1</th>\n",
       "      <td>1/3</td>\n",
       "      <td>1/2</td>\n",
       "      <td>1/6</td>\n",
       "    </tr>\n",
       "    <tr>\n",
       "      <th>door 2</th>\n",
       "      <td>1/3</td>\n",
       "      <td>1</td>\n",
       "      <td>1/3</td>\n",
       "    </tr>\n",
       "    <tr>\n",
       "      <th>door 3</th>\n",
       "      <td>1/3</td>\n",
       "      <td>0</td>\n",
       "      <td>0</td>\n",
       "    </tr>\n",
       "  </tbody>\n",
       "</table>\n",
       "</div>"
      ],
      "text/plain": [
       "       prior likelihood unnorm\n",
       "door 1   1/3        1/2    1/6\n",
       "door 2   1/3          1    1/3\n",
       "door 3   1/3          0      0"
      ]
     },
     "execution_count": 14,
     "metadata": {},
     "output_type": "execute_result"
    }
   ],
   "source": [
    "table3['unnorm'] = table3['prior'] * table3['likelihood']\n",
    "table3"
   ]
  },
  {
   "cell_type": "markdown",
   "metadata": {},
   "source": [
    "$P(M_3) = \\sum_i P(D_i)P(M_3|D_i) $"
   ]
  },
  {
   "cell_type": "code",
   "execution_count": 15,
   "metadata": {},
   "outputs": [
    {
     "data": {
      "text/plain": [
       "Fraction(1, 2)"
      ]
     },
     "execution_count": 15,
     "metadata": {},
     "output_type": "execute_result"
    }
   ],
   "source": [
    "prob_data = table3['unnorm'].sum()\n",
    "prob_data"
   ]
  },
  {
   "cell_type": "markdown",
   "metadata": {},
   "source": [
    "$P(D_i|M_3) = \\frac{P(D_i)P(M_3|D_i)}{P(M_3)}$"
   ]
  },
  {
   "cell_type": "code",
   "execution_count": 16,
   "metadata": {},
   "outputs": [
    {
     "data": {
      "text/html": [
       "<div>\n",
       "<style scoped>\n",
       "    .dataframe tbody tr th:only-of-type {\n",
       "        vertical-align: middle;\n",
       "    }\n",
       "\n",
       "    .dataframe tbody tr th {\n",
       "        vertical-align: top;\n",
       "    }\n",
       "\n",
       "    .dataframe thead th {\n",
       "        text-align: right;\n",
       "    }\n",
       "</style>\n",
       "<table border=\"1\" class=\"dataframe\">\n",
       "  <thead>\n",
       "    <tr style=\"text-align: right;\">\n",
       "      <th></th>\n",
       "      <th>prior</th>\n",
       "      <th>likelihood</th>\n",
       "      <th>unnorm</th>\n",
       "      <th>posterior</th>\n",
       "    </tr>\n",
       "  </thead>\n",
       "  <tbody>\n",
       "    <tr>\n",
       "      <th>door 1</th>\n",
       "      <td>1/3</td>\n",
       "      <td>1/2</td>\n",
       "      <td>1/6</td>\n",
       "      <td>1/3</td>\n",
       "    </tr>\n",
       "    <tr>\n",
       "      <th>door 2</th>\n",
       "      <td>1/3</td>\n",
       "      <td>1</td>\n",
       "      <td>1/3</td>\n",
       "      <td>2/3</td>\n",
       "    </tr>\n",
       "    <tr>\n",
       "      <th>door 3</th>\n",
       "      <td>1/3</td>\n",
       "      <td>0</td>\n",
       "      <td>0</td>\n",
       "      <td>0</td>\n",
       "    </tr>\n",
       "  </tbody>\n",
       "</table>\n",
       "</div>"
      ],
      "text/plain": [
       "       prior likelihood unnorm posterior\n",
       "door 1   1/3        1/2    1/6       1/3\n",
       "door 2   1/3          1    1/3       2/3\n",
       "door 3   1/3          0      0         0"
      ]
     },
     "execution_count": 16,
     "metadata": {},
     "output_type": "execute_result"
    }
   ],
   "source": [
    "table3['posterior'] = table3['unnorm'] / prob_data\n",
    "table3"
   ]
  },
  {
   "cell_type": "markdown",
   "metadata": {},
   "source": [
    "몬티가 3번 문을 연 후, 1번 문의 사후 확률은 $1/3$이고, 2번 문의 사후 확률은 $2/3$입니다. 따라서 1번 문에서 2번 문으로 바꾸는 것이 더 유리합니다."
   ]
  },
  {
   "cell_type": "code",
   "execution_count": 17,
   "metadata": {},
   "outputs": [
    {
     "data": {
      "text/plain": [
       "Fraction(1, 2)"
      ]
     },
     "execution_count": 17,
     "metadata": {},
     "output_type": "execute_result"
    }
   ],
   "source": [
    "prob_data = update(table3)\n",
    "prob_data"
   ]
  },
  {
   "cell_type": "code",
   "execution_count": 18,
   "metadata": {},
   "outputs": [
    {
     "data": {
      "text/html": [
       "<div>\n",
       "<style scoped>\n",
       "    .dataframe tbody tr th:only-of-type {\n",
       "        vertical-align: middle;\n",
       "    }\n",
       "\n",
       "    .dataframe tbody tr th {\n",
       "        vertical-align: top;\n",
       "    }\n",
       "\n",
       "    .dataframe thead th {\n",
       "        text-align: right;\n",
       "    }\n",
       "</style>\n",
       "<table border=\"1\" class=\"dataframe\">\n",
       "  <thead>\n",
       "    <tr style=\"text-align: right;\">\n",
       "      <th></th>\n",
       "      <th>prior</th>\n",
       "      <th>likelihood</th>\n",
       "      <th>unnorm</th>\n",
       "      <th>posterior</th>\n",
       "    </tr>\n",
       "  </thead>\n",
       "  <tbody>\n",
       "    <tr>\n",
       "      <th>door 1</th>\n",
       "      <td>1/3</td>\n",
       "      <td>1/2</td>\n",
       "      <td>1/6</td>\n",
       "      <td>1/3</td>\n",
       "    </tr>\n",
       "    <tr>\n",
       "      <th>door 2</th>\n",
       "      <td>1/3</td>\n",
       "      <td>1</td>\n",
       "      <td>1/3</td>\n",
       "      <td>2/3</td>\n",
       "    </tr>\n",
       "    <tr>\n",
       "      <th>door 3</th>\n",
       "      <td>1/3</td>\n",
       "      <td>0</td>\n",
       "      <td>0</td>\n",
       "      <td>0</td>\n",
       "    </tr>\n",
       "  </tbody>\n",
       "</table>\n",
       "</div>"
      ],
      "text/plain": [
       "       prior likelihood unnorm posterior\n",
       "door 1   1/3        1/2    1/6       1/3\n",
       "door 2   1/3          1    1/3       2/3\n",
       "door 3   1/3          0      0         0"
      ]
     },
     "execution_count": 18,
     "metadata": {},
     "output_type": "execute_result"
    }
   ],
   "source": [
    "table3"
   ]
  },
  {
   "cell_type": "markdown",
   "metadata": {},
   "source": [
    "이 예에서 알 수 있듯이, 확률에 대한 우리의 직관이 항상 신뢰할 만한 것은 아닙니다.  \n",
    "베이즈 정리는 문제를 나누어 푸는 전략을 제공하여 도움을 줄 수 있습니다:\n",
    "\n",
    "1. 먼저, 가설과 데이터를 작성합니다.\n",
    "\n",
    "2. 다음으로, 사전 확률을 구합니다.\n",
    "\n",
    "3. 마지막으로, 각 가설 하에서 데이터의 우도를 계산합니다.\n",
    "\n",
    "베이즈 테이블이 나머지 계산을 수행합니다."
   ]
  },
  {
   "cell_type": "markdown",
   "metadata": {},
   "source": [
    "\n",
    "## 요약\n",
    "\n",
    "이 장에서는 쿠키 문제를 베이즈 정리를 명시적으로 사용하여 풀어 보았고, 베이즈 테이블을 사용하여도 풀어 보았습니다. 이 두 방법 사이에는 실질적인 차이는 없지만, 베이즈 테이블은 특히 두 개 이상의 가설이 있는 문제에서 데이터의 총 확률을 계산하는 과정을 더 쉽게 해줄 수 있습니다.\n",
    "\n",
    "그 후, 다음 장에서 다시 다룰 주사위 문제와, 두 번 다시 보고 싶지 않을 수도 있는 몬티 홀 문제를 해결해 보았습니다.\n",
    "\n",
    "몬티 홀 문제로 머리가 아프다면 혼자가 아닙니다. 하지만 이 문제는 베이즈 정리가 복잡한 문제를 해결하는 데 있어서 강력한 분할 정복 전략이 될 수 있음을 보여준다고 생각합니다. 또한, 답이 왜 그런지에 대한 통찰을 제공해주기를 바랍니다.\n",
    "\n",
    "몬티가 문을 열면, 우리는 자동차의 위치에 대한 믿음을 갱신하는 데 사용할 수 있는 정보를 얻습니다. 이 정보의 일부는 명백합니다. 예를 들어, 그가 3번 문을 열었다면, 우리는 자동차가 3번 문 뒤에 없다는 것을 압니다. 그러나 정보의 일부는 더 미묘합니다. 자동차가 2번 문 뒤에 있을 경우 몬티가 3번 문을 열 확률이 더 높고, 1번 문 뒤에 있을 경우 확률이 낮습니다. 따라서 데이터는 2번 문에 유리한 증거가 됩니다. 우리는 앞으로의 장에서 증거의 개념을 다시 다룰 것입니다.\n",
    "\n",
    "다음 장에서는 쿠키 문제와 주사위 문제를 확장하여, 기본 확률에서 베이즈 통계로 나아가는 다음 단계를 탐구할 것입니다.\n",
    "\n",
    "하지만 먼저, 연습 문제를 풀어보는 것이 좋겠습니다."
   ]
  },
  {
   "cell_type": "markdown",
   "metadata": {},
   "source": [
    "## 연습문제"
   ]
  },
  {
   "cell_type": "markdown",
   "metadata": {},
   "source": [
    "연습 문제: 상자 안에 두 개의 동전이 있다고 가정해봅시다.\n",
    "하나는 한쪽은 앞면이고 다른 한쪽은 뒷면인 일반 동전이고, 다른 하나는 양쪽이 모두 앞면인 속임수 동전입니다.\n",
    "당신은 동전 하나를 무작위로 선택하여 한 면이 앞면임을 보았습니다.\n",
    "이때, 선택한 동전이 속임수 동전일 확률은 얼마일까요?"
   ]
  },
  {
   "cell_type": "code",
   "execution_count": 19,
   "metadata": {},
   "outputs": [
    {
     "data": {
      "text/html": [
       "<div>\n",
       "<style scoped>\n",
       "    .dataframe tbody tr th:only-of-type {\n",
       "        vertical-align: middle;\n",
       "    }\n",
       "\n",
       "    .dataframe tbody tr th {\n",
       "        vertical-align: top;\n",
       "    }\n",
       "\n",
       "    .dataframe thead th {\n",
       "        text-align: right;\n",
       "    }\n",
       "</style>\n",
       "<table border=\"1\" class=\"dataframe\">\n",
       "  <thead>\n",
       "    <tr style=\"text-align: right;\">\n",
       "      <th></th>\n",
       "      <th>prior</th>\n",
       "    </tr>\n",
       "  </thead>\n",
       "  <tbody>\n",
       "    <tr>\n",
       "      <th>normal</th>\n",
       "      <td>0.5</td>\n",
       "    </tr>\n",
       "    <tr>\n",
       "      <th>trick</th>\n",
       "      <td>0.5</td>\n",
       "    </tr>\n",
       "  </tbody>\n",
       "</table>\n",
       "</div>"
      ],
      "text/plain": [
       "        prior\n",
       "normal    0.5\n",
       "trick     0.5"
      ]
     },
     "execution_count": 19,
     "metadata": {},
     "output_type": "execute_result"
    }
   ],
   "source": [
    "coin = pd.DataFrame(index=['normal', 'trick'])\n",
    "coin['prior'] = 1/2, 1/2\n",
    "coin"
   ]
  },
  {
   "cell_type": "code",
   "execution_count": 20,
   "metadata": {},
   "outputs": [
    {
     "data": {
      "text/html": [
       "<div>\n",
       "<style scoped>\n",
       "    .dataframe tbody tr th:only-of-type {\n",
       "        vertical-align: middle;\n",
       "    }\n",
       "\n",
       "    .dataframe tbody tr th {\n",
       "        vertical-align: top;\n",
       "    }\n",
       "\n",
       "    .dataframe thead th {\n",
       "        text-align: right;\n",
       "    }\n",
       "</style>\n",
       "<table border=\"1\" class=\"dataframe\">\n",
       "  <thead>\n",
       "    <tr style=\"text-align: right;\">\n",
       "      <th></th>\n",
       "      <th>prior</th>\n",
       "      <th>likelihood</th>\n",
       "    </tr>\n",
       "  </thead>\n",
       "  <tbody>\n",
       "    <tr>\n",
       "      <th>normal</th>\n",
       "      <td>0.5</td>\n",
       "      <td>0.5</td>\n",
       "    </tr>\n",
       "    <tr>\n",
       "      <th>trick</th>\n",
       "      <td>0.5</td>\n",
       "      <td>1.0</td>\n",
       "    </tr>\n",
       "  </tbody>\n",
       "</table>\n",
       "</div>"
      ],
      "text/plain": [
       "        prior  likelihood\n",
       "normal    0.5         0.5\n",
       "trick     0.5         1.0"
      ]
     },
     "execution_count": 20,
     "metadata": {},
     "output_type": "execute_result"
    }
   ],
   "source": [
    "coin['likelihood'] = 1/2, 1\n",
    "coin"
   ]
  },
  {
   "cell_type": "code",
   "execution_count": 21,
   "metadata": {},
   "outputs": [
    {
     "data": {
      "text/html": [
       "<div>\n",
       "<style scoped>\n",
       "    .dataframe tbody tr th:only-of-type {\n",
       "        vertical-align: middle;\n",
       "    }\n",
       "\n",
       "    .dataframe tbody tr th {\n",
       "        vertical-align: top;\n",
       "    }\n",
       "\n",
       "    .dataframe thead th {\n",
       "        text-align: right;\n",
       "    }\n",
       "</style>\n",
       "<table border=\"1\" class=\"dataframe\">\n",
       "  <thead>\n",
       "    <tr style=\"text-align: right;\">\n",
       "      <th></th>\n",
       "      <th>prior</th>\n",
       "      <th>likelihood</th>\n",
       "      <th>unnorm</th>\n",
       "    </tr>\n",
       "  </thead>\n",
       "  <tbody>\n",
       "    <tr>\n",
       "      <th>normal</th>\n",
       "      <td>0.5</td>\n",
       "      <td>0.5</td>\n",
       "      <td>0.25</td>\n",
       "    </tr>\n",
       "    <tr>\n",
       "      <th>trick</th>\n",
       "      <td>0.5</td>\n",
       "      <td>1.0</td>\n",
       "      <td>0.50</td>\n",
       "    </tr>\n",
       "  </tbody>\n",
       "</table>\n",
       "</div>"
      ],
      "text/plain": [
       "        prior  likelihood  unnorm\n",
       "normal    0.5         0.5    0.25\n",
       "trick     0.5         1.0    0.50"
      ]
     },
     "execution_count": 21,
     "metadata": {},
     "output_type": "execute_result"
    }
   ],
   "source": [
    "coin['unnorm'] = coin['prior'] * coin['likelihood']\n",
    "coin"
   ]
  },
  {
   "cell_type": "code",
   "execution_count": 22,
   "metadata": {},
   "outputs": [
    {
     "data": {
      "text/plain": [
       "0.75"
      ]
     },
     "execution_count": 22,
     "metadata": {},
     "output_type": "execute_result"
    }
   ],
   "source": [
    "prob_data = coin['unnorm'].sum()\n",
    "prob_data"
   ]
  },
  {
   "cell_type": "code",
   "execution_count": 23,
   "metadata": {},
   "outputs": [
    {
     "data": {
      "text/html": [
       "<div>\n",
       "<style scoped>\n",
       "    .dataframe tbody tr th:only-of-type {\n",
       "        vertical-align: middle;\n",
       "    }\n",
       "\n",
       "    .dataframe tbody tr th {\n",
       "        vertical-align: top;\n",
       "    }\n",
       "\n",
       "    .dataframe thead th {\n",
       "        text-align: right;\n",
       "    }\n",
       "</style>\n",
       "<table border=\"1\" class=\"dataframe\">\n",
       "  <thead>\n",
       "    <tr style=\"text-align: right;\">\n",
       "      <th></th>\n",
       "      <th>prior</th>\n",
       "      <th>likelihood</th>\n",
       "      <th>unnorm</th>\n",
       "      <th>posterior</th>\n",
       "    </tr>\n",
       "  </thead>\n",
       "  <tbody>\n",
       "    <tr>\n",
       "      <th>normal</th>\n",
       "      <td>0.5</td>\n",
       "      <td>0.5</td>\n",
       "      <td>0.25</td>\n",
       "      <td>0.333333</td>\n",
       "    </tr>\n",
       "    <tr>\n",
       "      <th>trick</th>\n",
       "      <td>0.5</td>\n",
       "      <td>1.0</td>\n",
       "      <td>0.50</td>\n",
       "      <td>0.666667</td>\n",
       "    </tr>\n",
       "  </tbody>\n",
       "</table>\n",
       "</div>"
      ],
      "text/plain": [
       "        prior  likelihood  unnorm  posterior\n",
       "normal    0.5         0.5    0.25   0.333333\n",
       "trick     0.5         1.0    0.50   0.666667"
      ]
     },
     "execution_count": 23,
     "metadata": {},
     "output_type": "execute_result"
    }
   ],
   "source": [
    "coin['posterior'] = coin['unnorm'] / prob_data\n",
    "coin"
   ]
  },
  {
   "cell_type": "markdown",
   "metadata": {},
   "source": [
    "**연습 문제**: 누군가를 만났고, 그에게 자녀가 두 명 있다는 것을 알게 되었다고 가정해봅시다.\n",
    "자녀 중 한 명이 여자 아이인지 묻자, 그는 그렇다고 대답했습니다.\n",
    "두 자녀 모두 여자일 확률은 얼마일까요?\n",
    "\n",
    "힌트: 네 가지의 동일하게 가능성이 있는 가설로 시작해보세요."
   ]
  },
  {
   "cell_type": "code",
   "execution_count": 24,
   "metadata": {},
   "outputs": [
    {
     "data": {
      "text/html": [
       "<div>\n",
       "<style scoped>\n",
       "    .dataframe tbody tr th:only-of-type {\n",
       "        vertical-align: middle;\n",
       "    }\n",
       "\n",
       "    .dataframe tbody tr th {\n",
       "        vertical-align: top;\n",
       "    }\n",
       "\n",
       "    .dataframe thead th {\n",
       "        text-align: right;\n",
       "    }\n",
       "</style>\n",
       "<table border=\"1\" class=\"dataframe\">\n",
       "  <thead>\n",
       "    <tr style=\"text-align: right;\">\n",
       "      <th></th>\n",
       "      <th>prior</th>\n",
       "    </tr>\n",
       "  </thead>\n",
       "  <tbody>\n",
       "    <tr>\n",
       "      <th>bb</th>\n",
       "      <td>0.25</td>\n",
       "    </tr>\n",
       "    <tr>\n",
       "      <th>bg</th>\n",
       "      <td>0.25</td>\n",
       "    </tr>\n",
       "    <tr>\n",
       "      <th>gb</th>\n",
       "      <td>0.25</td>\n",
       "    </tr>\n",
       "    <tr>\n",
       "      <th>gg</th>\n",
       "      <td>0.25</td>\n",
       "    </tr>\n",
       "  </tbody>\n",
       "</table>\n",
       "</div>"
      ],
      "text/plain": [
       "    prior\n",
       "bb   0.25\n",
       "bg   0.25\n",
       "gb   0.25\n",
       "gg   0.25"
      ]
     },
     "execution_count": 24,
     "metadata": {},
     "output_type": "execute_result"
    }
   ],
   "source": [
    "s = pd.DataFrame(index=['bb', 'bg', 'gb', 'gg'])\n",
    "s['prior'] = 1/4\n",
    "s"
   ]
  },
  {
   "cell_type": "code",
   "execution_count": 25,
   "metadata": {},
   "outputs": [
    {
     "data": {
      "text/html": [
       "<div>\n",
       "<style scoped>\n",
       "    .dataframe tbody tr th:only-of-type {\n",
       "        vertical-align: middle;\n",
       "    }\n",
       "\n",
       "    .dataframe tbody tr th {\n",
       "        vertical-align: top;\n",
       "    }\n",
       "\n",
       "    .dataframe thead th {\n",
       "        text-align: right;\n",
       "    }\n",
       "</style>\n",
       "<table border=\"1\" class=\"dataframe\">\n",
       "  <thead>\n",
       "    <tr style=\"text-align: right;\">\n",
       "      <th></th>\n",
       "      <th>prior</th>\n",
       "      <th>likelihood</th>\n",
       "      <th>unnorm</th>\n",
       "      <th>posterior</th>\n",
       "    </tr>\n",
       "  </thead>\n",
       "  <tbody>\n",
       "    <tr>\n",
       "      <th>bb</th>\n",
       "      <td>0.25</td>\n",
       "      <td>0</td>\n",
       "      <td>0.00</td>\n",
       "      <td>0.000000</td>\n",
       "    </tr>\n",
       "    <tr>\n",
       "      <th>bg</th>\n",
       "      <td>0.25</td>\n",
       "      <td>1</td>\n",
       "      <td>0.25</td>\n",
       "      <td>0.333333</td>\n",
       "    </tr>\n",
       "    <tr>\n",
       "      <th>gb</th>\n",
       "      <td>0.25</td>\n",
       "      <td>1</td>\n",
       "      <td>0.25</td>\n",
       "      <td>0.333333</td>\n",
       "    </tr>\n",
       "    <tr>\n",
       "      <th>gg</th>\n",
       "      <td>0.25</td>\n",
       "      <td>1</td>\n",
       "      <td>0.25</td>\n",
       "      <td>0.333333</td>\n",
       "    </tr>\n",
       "  </tbody>\n",
       "</table>\n",
       "</div>"
      ],
      "text/plain": [
       "    prior  likelihood  unnorm  posterior\n",
       "bb   0.25           0    0.00   0.000000\n",
       "bg   0.25           1    0.25   0.333333\n",
       "gb   0.25           1    0.25   0.333333\n",
       "gg   0.25           1    0.25   0.333333"
      ]
     },
     "execution_count": 25,
     "metadata": {},
     "output_type": "execute_result"
    }
   ],
   "source": [
    "s['likelihood'] = 0, 1, 1, 1\n",
    "s['unnorm'] = s['prior'] * s['likelihood']\n",
    "prob_data = s['unnorm'].sum()\n",
    "s['posterior'] = s['unnorm'] / prob_data\n",
    "s"
   ]
  },
  {
   "cell_type": "markdown",
   "metadata": {},
   "source": [
    "\n",
    "**연습 문제:** [몬티 홀 문제](https://en.wikipedia.org/wiki/Monty_Hall_problem)에는 여러 변형이 있습니다.  \n",
    "예를 들어, 몬티가 선택할 수 있다면 항상 2번 문을 선택하고, 어쩔 수 없는 경우에만 (자동차가 2번 문 뒤에 있는 경우) 3번 문을 선택한다고 가정해봅시다.\n",
    "1번 문을 선택했을 때 몬티가 2번 문을 열었다면, 자동차가 3번 문 뒤에 있을 확률은 얼마일까요?"
   ]
  },
  {
   "cell_type": "markdown",
   "metadata": {},
   "source": [
    "문1,2,3에 차가 있을 사전 확률은 전부 1/3"
   ]
  },
  {
   "cell_type": "code",
   "execution_count": 26,
   "metadata": {},
   "outputs": [
    {
     "data": {
      "text/html": [
       "<div>\n",
       "<style scoped>\n",
       "    .dataframe tbody tr th:only-of-type {\n",
       "        vertical-align: middle;\n",
       "    }\n",
       "\n",
       "    .dataframe tbody tr th {\n",
       "        vertical-align: top;\n",
       "    }\n",
       "\n",
       "    .dataframe thead th {\n",
       "        text-align: right;\n",
       "    }\n",
       "</style>\n",
       "<table border=\"1\" class=\"dataframe\">\n",
       "  <thead>\n",
       "    <tr style=\"text-align: right;\">\n",
       "      <th></th>\n",
       "      <th>prior</th>\n",
       "    </tr>\n",
       "  </thead>\n",
       "  <tbody>\n",
       "    <tr>\n",
       "      <th>D1</th>\n",
       "      <td>0.333333</td>\n",
       "    </tr>\n",
       "    <tr>\n",
       "      <th>D2</th>\n",
       "      <td>0.333333</td>\n",
       "    </tr>\n",
       "    <tr>\n",
       "      <th>D3</th>\n",
       "      <td>0.333333</td>\n",
       "    </tr>\n",
       "  </tbody>\n",
       "</table>\n",
       "</div>"
      ],
      "text/plain": [
       "       prior\n",
       "D1  0.333333\n",
       "D2  0.333333\n",
       "D3  0.333333"
      ]
     },
     "execution_count": 26,
     "metadata": {},
     "output_type": "execute_result"
    }
   ],
   "source": [
    "monty1 = pd.DataFrame(index=['D1', 'D2', 'D3'])\n",
    "monty1['prior'] = 1/3, 1/3, 1/3\n",
    "monty1"
   ]
  },
  {
   "cell_type": "markdown",
   "metadata": {},
   "source": [
    "문1을 선택시 몬티가 문2를 열었을 확률\n",
    "* 문1에 차가 있으면 무조건 문2를 열음 따라서 1\n",
    "* 문2에 차가 있으면 문2를 열지 않으므로 0\n",
    "* 문3에 차가 있으면 항상 문2를 열것이므로 1"
   ]
  },
  {
   "cell_type": "code",
   "execution_count": 27,
   "metadata": {},
   "outputs": [
    {
     "data": {
      "text/html": [
       "<div>\n",
       "<style scoped>\n",
       "    .dataframe tbody tr th:only-of-type {\n",
       "        vertical-align: middle;\n",
       "    }\n",
       "\n",
       "    .dataframe tbody tr th {\n",
       "        vertical-align: top;\n",
       "    }\n",
       "\n",
       "    .dataframe thead th {\n",
       "        text-align: right;\n",
       "    }\n",
       "</style>\n",
       "<table border=\"1\" class=\"dataframe\">\n",
       "  <thead>\n",
       "    <tr style=\"text-align: right;\">\n",
       "      <th></th>\n",
       "      <th>prior</th>\n",
       "      <th>likelihood</th>\n",
       "    </tr>\n",
       "  </thead>\n",
       "  <tbody>\n",
       "    <tr>\n",
       "      <th>D1</th>\n",
       "      <td>0.333333</td>\n",
       "      <td>1</td>\n",
       "    </tr>\n",
       "    <tr>\n",
       "      <th>D2</th>\n",
       "      <td>0.333333</td>\n",
       "      <td>0</td>\n",
       "    </tr>\n",
       "    <tr>\n",
       "      <th>D3</th>\n",
       "      <td>0.333333</td>\n",
       "      <td>1</td>\n",
       "    </tr>\n",
       "  </tbody>\n",
       "</table>\n",
       "</div>"
      ],
      "text/plain": [
       "       prior  likelihood\n",
       "D1  0.333333           1\n",
       "D2  0.333333           0\n",
       "D3  0.333333           1"
      ]
     },
     "execution_count": 27,
     "metadata": {},
     "output_type": "execute_result"
    }
   ],
   "source": [
    "monty1['likelihood'] = 1, 0, 1\n",
    "monty1"
   ]
  },
  {
   "cell_type": "code",
   "execution_count": 28,
   "metadata": {},
   "outputs": [
    {
     "data": {
      "text/html": [
       "<div>\n",
       "<style scoped>\n",
       "    .dataframe tbody tr th:only-of-type {\n",
       "        vertical-align: middle;\n",
       "    }\n",
       "\n",
       "    .dataframe tbody tr th {\n",
       "        vertical-align: top;\n",
       "    }\n",
       "\n",
       "    .dataframe thead th {\n",
       "        text-align: right;\n",
       "    }\n",
       "</style>\n",
       "<table border=\"1\" class=\"dataframe\">\n",
       "  <thead>\n",
       "    <tr style=\"text-align: right;\">\n",
       "      <th></th>\n",
       "      <th>prior</th>\n",
       "      <th>likelihood</th>\n",
       "      <th>unnorm</th>\n",
       "    </tr>\n",
       "  </thead>\n",
       "  <tbody>\n",
       "    <tr>\n",
       "      <th>D1</th>\n",
       "      <td>0.333333</td>\n",
       "      <td>1</td>\n",
       "      <td>0.333333</td>\n",
       "    </tr>\n",
       "    <tr>\n",
       "      <th>D2</th>\n",
       "      <td>0.333333</td>\n",
       "      <td>0</td>\n",
       "      <td>0.000000</td>\n",
       "    </tr>\n",
       "    <tr>\n",
       "      <th>D3</th>\n",
       "      <td>0.333333</td>\n",
       "      <td>1</td>\n",
       "      <td>0.333333</td>\n",
       "    </tr>\n",
       "  </tbody>\n",
       "</table>\n",
       "</div>"
      ],
      "text/plain": [
       "       prior  likelihood    unnorm\n",
       "D1  0.333333           1  0.333333\n",
       "D2  0.333333           0  0.000000\n",
       "D3  0.333333           1  0.333333"
      ]
     },
     "execution_count": 28,
     "metadata": {},
     "output_type": "execute_result"
    }
   ],
   "source": [
    "monty1['unnorm'] = monty1['prior'] * monty1['likelihood']\n",
    "monty1"
   ]
  },
  {
   "cell_type": "code",
   "execution_count": 35,
   "metadata": {},
   "outputs": [
    {
     "data": {
      "text/plain": [
       "0.6666666666666666"
      ]
     },
     "execution_count": 35,
     "metadata": {},
     "output_type": "execute_result"
    }
   ],
   "source": [
    "prob_data = monty1['unnorm'].sum()\n",
    "prob_data"
   ]
  },
  {
   "cell_type": "code",
   "execution_count": 30,
   "metadata": {},
   "outputs": [
    {
     "data": {
      "text/html": [
       "<div>\n",
       "<style scoped>\n",
       "    .dataframe tbody tr th:only-of-type {\n",
       "        vertical-align: middle;\n",
       "    }\n",
       "\n",
       "    .dataframe tbody tr th {\n",
       "        vertical-align: top;\n",
       "    }\n",
       "\n",
       "    .dataframe thead th {\n",
       "        text-align: right;\n",
       "    }\n",
       "</style>\n",
       "<table border=\"1\" class=\"dataframe\">\n",
       "  <thead>\n",
       "    <tr style=\"text-align: right;\">\n",
       "      <th></th>\n",
       "      <th>prior</th>\n",
       "      <th>likelihood</th>\n",
       "      <th>unnorm</th>\n",
       "      <th>posterior</th>\n",
       "    </tr>\n",
       "  </thead>\n",
       "  <tbody>\n",
       "    <tr>\n",
       "      <th>D1</th>\n",
       "      <td>0.333333</td>\n",
       "      <td>1</td>\n",
       "      <td>0.333333</td>\n",
       "      <td>0.5</td>\n",
       "    </tr>\n",
       "    <tr>\n",
       "      <th>D2</th>\n",
       "      <td>0.333333</td>\n",
       "      <td>0</td>\n",
       "      <td>0.000000</td>\n",
       "      <td>0.0</td>\n",
       "    </tr>\n",
       "    <tr>\n",
       "      <th>D3</th>\n",
       "      <td>0.333333</td>\n",
       "      <td>1</td>\n",
       "      <td>0.333333</td>\n",
       "      <td>0.5</td>\n",
       "    </tr>\n",
       "  </tbody>\n",
       "</table>\n",
       "</div>"
      ],
      "text/plain": [
       "       prior  likelihood    unnorm  posterior\n",
       "D1  0.333333           1  0.333333        0.5\n",
       "D2  0.333333           0  0.000000        0.0\n",
       "D3  0.333333           1  0.333333        0.5"
      ]
     },
     "execution_count": 30,
     "metadata": {},
     "output_type": "execute_result"
    }
   ],
   "source": [
    "monty1['posterior'] = monty1['unnorm'] / prob_data\n",
    "monty1"
   ]
  },
  {
   "cell_type": "markdown",
   "metadata": {},
   "source": [
    "문1을 선택했을 경우 몬티가 문2를 열었다면 문1과 문3에 있을 확율은 각각 1/2"
   ]
  },
  {
   "cell_type": "markdown",
   "metadata": {},
   "source": [
    "\n",
    "문1을 선택했을 경우 몬티가 문3을 열었을 경우 문2에 차가 있을 확율은?"
   ]
  },
  {
   "cell_type": "code",
   "execution_count": 36,
   "metadata": {},
   "outputs": [
    {
     "data": {
      "text/html": [
       "<div>\n",
       "<style scoped>\n",
       "    .dataframe tbody tr th:only-of-type {\n",
       "        vertical-align: middle;\n",
       "    }\n",
       "\n",
       "    .dataframe tbody tr th {\n",
       "        vertical-align: top;\n",
       "    }\n",
       "\n",
       "    .dataframe thead th {\n",
       "        text-align: right;\n",
       "    }\n",
       "</style>\n",
       "<table border=\"1\" class=\"dataframe\">\n",
       "  <thead>\n",
       "    <tr style=\"text-align: right;\">\n",
       "      <th></th>\n",
       "      <th>prior</th>\n",
       "    </tr>\n",
       "  </thead>\n",
       "  <tbody>\n",
       "    <tr>\n",
       "      <th>D1</th>\n",
       "      <td>0.333333</td>\n",
       "    </tr>\n",
       "    <tr>\n",
       "      <th>D2</th>\n",
       "      <td>0.333333</td>\n",
       "    </tr>\n",
       "    <tr>\n",
       "      <th>D3</th>\n",
       "      <td>0.333333</td>\n",
       "    </tr>\n",
       "  </tbody>\n",
       "</table>\n",
       "</div>"
      ],
      "text/plain": [
       "       prior\n",
       "D1  0.333333\n",
       "D2  0.333333\n",
       "D3  0.333333"
      ]
     },
     "execution_count": 36,
     "metadata": {},
     "output_type": "execute_result"
    }
   ],
   "source": [
    "monty2 = pd.DataFrame(index=['D1', 'D2', 'D3'])\n",
    "monty2['prior'] = 1/3, 1/3, 1/3\n",
    "monty2"
   ]
  },
  {
   "cell_type": "code",
   "execution_count": null,
   "metadata": {},
   "outputs": [],
   "source": []
  },
  {
   "cell_type": "code",
   "execution_count": 32,
   "metadata": {},
   "outputs": [
    {
     "data": {
      "text/html": [
       "<div>\n",
       "<style scoped>\n",
       "    .dataframe tbody tr th:only-of-type {\n",
       "        vertical-align: middle;\n",
       "    }\n",
       "\n",
       "    .dataframe tbody tr th {\n",
       "        vertical-align: top;\n",
       "    }\n",
       "\n",
       "    .dataframe thead th {\n",
       "        text-align: right;\n",
       "    }\n",
       "</style>\n",
       "<table border=\"1\" class=\"dataframe\">\n",
       "  <thead>\n",
       "    <tr style=\"text-align: right;\">\n",
       "      <th></th>\n",
       "      <th>prior</th>\n",
       "      <th>likelihood</th>\n",
       "    </tr>\n",
       "  </thead>\n",
       "  <tbody>\n",
       "    <tr>\n",
       "      <th>D1</th>\n",
       "      <td>0.333333</td>\n",
       "      <td>0</td>\n",
       "    </tr>\n",
       "    <tr>\n",
       "      <th>D2</th>\n",
       "      <td>0.333333</td>\n",
       "      <td>1</td>\n",
       "    </tr>\n",
       "    <tr>\n",
       "      <th>D3</th>\n",
       "      <td>0.333333</td>\n",
       "      <td>0</td>\n",
       "    </tr>\n",
       "  </tbody>\n",
       "</table>\n",
       "</div>"
      ],
      "text/plain": [
       "       prior  likelihood\n",
       "D1  0.333333           0\n",
       "D2  0.333333           1\n",
       "D3  0.333333           0"
      ]
     },
     "execution_count": 32,
     "metadata": {},
     "output_type": "execute_result"
    }
   ],
   "source": [
    "monty2['likelihood'] = 0, 1, 0\n",
    "monty2"
   ]
  },
  {
   "cell_type": "code",
   "execution_count": 33,
   "metadata": {},
   "outputs": [
    {
     "data": {
      "text/html": [
       "<div>\n",
       "<style scoped>\n",
       "    .dataframe tbody tr th:only-of-type {\n",
       "        vertical-align: middle;\n",
       "    }\n",
       "\n",
       "    .dataframe tbody tr th {\n",
       "        vertical-align: top;\n",
       "    }\n",
       "\n",
       "    .dataframe thead th {\n",
       "        text-align: right;\n",
       "    }\n",
       "</style>\n",
       "<table border=\"1\" class=\"dataframe\">\n",
       "  <thead>\n",
       "    <tr style=\"text-align: right;\">\n",
       "      <th></th>\n",
       "      <th>prior</th>\n",
       "      <th>likelihood</th>\n",
       "      <th>unnorm</th>\n",
       "      <th>posterior</th>\n",
       "    </tr>\n",
       "  </thead>\n",
       "  <tbody>\n",
       "    <tr>\n",
       "      <th>D1</th>\n",
       "      <td>0.333333</td>\n",
       "      <td>0</td>\n",
       "      <td>0.000000</td>\n",
       "      <td>0.0</td>\n",
       "    </tr>\n",
       "    <tr>\n",
       "      <th>D2</th>\n",
       "      <td>0.333333</td>\n",
       "      <td>1</td>\n",
       "      <td>0.333333</td>\n",
       "      <td>1.0</td>\n",
       "    </tr>\n",
       "    <tr>\n",
       "      <th>D3</th>\n",
       "      <td>0.333333</td>\n",
       "      <td>0</td>\n",
       "      <td>0.000000</td>\n",
       "      <td>0.0</td>\n",
       "    </tr>\n",
       "  </tbody>\n",
       "</table>\n",
       "</div>"
      ],
      "text/plain": [
       "       prior  likelihood    unnorm  posterior\n",
       "D1  0.333333           0  0.000000        0.0\n",
       "D2  0.333333           1  0.333333        1.0\n",
       "D3  0.333333           0  0.000000        0.0"
      ]
     },
     "execution_count": 33,
     "metadata": {},
     "output_type": "execute_result"
    }
   ],
   "source": [
    "monty2['unnorm'] = monty2['prior'] * monty2['likelihood']\n",
    "prob_data = monty2['unnorm'].sum()\n",
    "monty2['posterior'] = monty2['unnorm'] / prob_data\n",
    "monty2"
   ]
  },
  {
   "cell_type": "markdown",
   "metadata": {},
   "source": [
    "이 경우 문2에 차가 있을 확률은 100프로\n",
    "\n",
    "이 문제의 교훈은 누군가 몬티쇼를 오랫동안 봤더니 몬티가 2번에 차가 없는 경우 2번을 여는 교칙을 가지고 있다는 것을 파악함. "
   ]
  },
  {
   "cell_type": "markdown",
   "metadata": {},
   "source": [
    "**연습 문제:** M&M's는 다양한 색상의 코팅된 작은 초콜릿 사탕입니다.  \n",
    "M&M's를 만드는 Mars, Inc.는 때때로 색상 혼합 비율을 변경합니다.  \n",
    "1995년에 파란색 M&M's가 도입되었습니다.  \n",
    "\n",
    "* 1994년, 일반 M&M's 한 봉지의 색상 구성은 갈색 30\\%, 노란색 20\\%, 빨간색 20\\%, 녹색 10\\%, 주황색 10\\%, 황갈색 10\\%였습니다.\n",
    "\n",
    "* 1996년에는 파란색 24\\%, 녹색 20\\%, 주황색 16\\%, 노란색 14\\%, 빨간색 13\\%, 갈색 13\\%로 변경되었습니다.\n",
    "\n",
    "제 친구가 두 봉지의 M&M's를 가지고 있다고 가정해 봅시다. 한 봉지는 1994년의 것이고 다른 봉지는 1996년의 것이라고 합니다. 그는 어느 봉지가 어느 해의 것인지 말해주지 않고, 각 봉지에서 M&M's를 하나씩 주었습니다. 하나는 노란색이고 하나는 녹색입니다. 노란색이 1994년 봉지에서 나왔을 확률은 얼마일까요?\n",
    "\n",
    "힌트: 이 문제의 핵심은 가설과 데이터를 신중하게 정의하는 것입니다.\n"
   ]
  },
  {
   "cell_type": "markdown",
   "metadata": {},
   "source": [
    "### 풀이\n",
    "\n",
    "가설:\n",
    "* A: 94에서 노란색 & 96에서 녹색\n",
    "* B: 96에서 노란색 & 94에서 녹색\n",
    "\n",
    "- 각 년도 봉지를 선택할 확률\n",
    "    - P(1994) 1/2\n",
    "    - P(1996) 1/2\n",
    "\n",
    "- 94에서 노란색\n",
    "    - P(Y|1994) 0.2\n",
    "    \n",
    "- 96에서 노란색\n",
    "    - P(Y|1996) 0.14\n",
    "    \n",
    "- 94에서 녹색\n",
    "    - P(G|1994) 0.1\n",
    "    \n",
    "- 96에서 녹색\n",
    "    - P(G|1996) 0.2\n",
    "    \n",
    "- P(Y) = P(Y|1994) + P(Y|1996) = 0.34\n",
    "- P(G) = P(G|1994) + P(G|1996) = 0.26"
   ]
  },
  {
   "cell_type": "code",
   "execution_count": 34,
   "metadata": {},
   "outputs": [
    {
     "data": {
      "text/html": [
       "<div>\n",
       "<style scoped>\n",
       "    .dataframe tbody tr th:only-of-type {\n",
       "        vertical-align: middle;\n",
       "    }\n",
       "\n",
       "    .dataframe tbody tr th {\n",
       "        vertical-align: top;\n",
       "    }\n",
       "\n",
       "    .dataframe thead th {\n",
       "        text-align: right;\n",
       "    }\n",
       "</style>\n",
       "<table border=\"1\" class=\"dataframe\">\n",
       "  <thead>\n",
       "    <tr style=\"text-align: right;\">\n",
       "      <th></th>\n",
       "      <th>prior</th>\n",
       "      <th>likelihood</th>\n",
       "      <th>unnorm</th>\n",
       "      <th>posterior</th>\n",
       "    </tr>\n",
       "  </thead>\n",
       "  <tbody>\n",
       "    <tr>\n",
       "      <th>Y94&amp;G96</th>\n",
       "      <td>0.5</td>\n",
       "      <td>0.040</td>\n",
       "      <td>0.020</td>\n",
       "      <td>0.740741</td>\n",
       "    </tr>\n",
       "    <tr>\n",
       "      <th>G94&amp;Y96</th>\n",
       "      <td>0.5</td>\n",
       "      <td>0.014</td>\n",
       "      <td>0.007</td>\n",
       "      <td>0.259259</td>\n",
       "    </tr>\n",
       "  </tbody>\n",
       "</table>\n",
       "</div>"
      ],
      "text/plain": [
       "         prior  likelihood  unnorm  posterior\n",
       "Y94&G96    0.5       0.040   0.020   0.740741\n",
       "G94&Y96    0.5       0.014   0.007   0.259259"
      ]
     },
     "execution_count": 34,
     "metadata": {},
     "output_type": "execute_result"
    }
   ],
   "source": [
    "MnM = pd.DataFrame(index=['Y94&G96', 'G94&Y96'])\n",
    "MnM['prior'] = 1/2, 1/2\n",
    "MnM['likelihood'] = 0.2*0.2, 0.1*0.14\n",
    "MnM['unnorm'] = MnM['prior'] * MnM['likelihood']\n",
    "prob_data = MnM['unnorm'].sum()\n",
    "MnM['posterior'] = MnM['unnorm'] / prob_data\n",
    "MnM"
   ]
  },
  {
   "cell_type": "markdown",
   "metadata": {},
   "source": [
    "가설은 노란색이 94에서 나오고 **동시에** 녹색이 96에서 나오는 확률.\n",
    "따라서 우도는 P(Y|1994) * P(G|1996)가 되며 이를 구하면 74.04%"
   ]
  }
 ],
 "metadata": {
  "kernelspec": {
   "display_name": "my_env",
   "language": "python",
   "name": "python3"
  },
  "language_info": {
   "codemirror_mode": {
    "name": "ipython",
    "version": 3
   },
   "file_extension": ".py",
   "mimetype": "text/x-python",
   "name": "python",
   "nbconvert_exporter": "python",
   "pygments_lexer": "ipython3",
   "version": "3.10.13"
  }
 },
 "nbformat": 4,
 "nbformat_minor": 2
}
